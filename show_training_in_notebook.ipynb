{
 "cells": [
  {
   "cell_type": "code",
   "id": "initial_id",
   "metadata": {
    "collapsed": true,
    "ExecuteTime": {
     "end_time": "2024-08-19T06:12:14.342989Z",
     "start_time": "2024-08-19T06:12:14.015167Z"
    }
   },
   "source": [
    "from fleiadex.training import execute_vae, execute_diffuser\n",
    "from fleiadex.utils import get_yaml_config\n",
    "\n",
    "get_yaml_config('VAE', './')\n",
    "get_yaml_config('conditional_ddpm', './')"
   ],
   "outputs": [
    {
     "ename": "ValueError",
     "evalue": "config type conditional_v not supported. choose from 'vae', 'conditional_ddpm', 'ldm'.'",
     "output_type": "error",
     "traceback": [
      "\u001B[0;31m---------------------------------------------------------------------------\u001B[0m",
      "\u001B[0;31mValueError\u001B[0m                                Traceback (most recent call last)",
      "Cell \u001B[0;32mIn[2], line 7\u001B[0m\n\u001B[1;32m      4\u001B[0m get_yaml_config(\u001B[38;5;124m'\u001B[39m\u001B[38;5;124mVAE\u001B[39m\u001B[38;5;124m'\u001B[39m, \u001B[38;5;124m'\u001B[39m\u001B[38;5;124m./\u001B[39m\u001B[38;5;124m'\u001B[39m)\n\u001B[1;32m      5\u001B[0m get_yaml_config(\u001B[38;5;124m'\u001B[39m\u001B[38;5;124mconditional_ddpm\u001B[39m\u001B[38;5;124m'\u001B[39m, \u001B[38;5;124m'\u001B[39m\u001B[38;5;124m./\u001B[39m\u001B[38;5;124m'\u001B[39m)\n\u001B[0;32m----> 7\u001B[0m \u001B[43mget_yaml_config\u001B[49m\u001B[43m(\u001B[49m\u001B[38;5;124;43m'\u001B[39;49m\u001B[38;5;124;43mconditional_v\u001B[39;49m\u001B[38;5;124;43m'\u001B[39;49m\u001B[43m,\u001B[49m\u001B[43m \u001B[49m\u001B[38;5;124;43m'\u001B[39;49m\u001B[38;5;124;43m./\u001B[39;49m\u001B[38;5;124;43m'\u001B[39;49m\u001B[43m)\u001B[49m\n",
      "File \u001B[0;32m~/Desktop/fleiadex/src/fleiadex/utils/convert_config_dataclass_to_yaml.py:22\u001B[0m, in \u001B[0;36mget_yaml_config\u001B[0;34m(config_type, save_dir)\u001B[0m\n\u001B[1;32m     20\u001B[0m     config \u001B[38;5;241m=\u001B[39m LDMConfig()\n\u001B[1;32m     21\u001B[0m \u001B[38;5;28;01melse\u001B[39;00m:\n\u001B[0;32m---> 22\u001B[0m     \u001B[38;5;28;01mraise\u001B[39;00m \u001B[38;5;167;01mValueError\u001B[39;00m(\u001B[38;5;124mf\u001B[39m\u001B[38;5;124m\"\u001B[39m\u001B[38;5;124mconfig type \u001B[39m\u001B[38;5;132;01m{\u001B[39;00mconfig_type\u001B[38;5;132;01m}\u001B[39;00m\u001B[38;5;124m not supported. choose from \u001B[39m\u001B[38;5;124m\"\u001B[39m\n\u001B[1;32m     23\u001B[0m                      \u001B[38;5;124mf\u001B[39m\u001B[38;5;124m\"\u001B[39m\u001B[38;5;124m'\u001B[39m\u001B[38;5;124mvae\u001B[39m\u001B[38;5;124m'\u001B[39m\u001B[38;5;124m, \u001B[39m\u001B[38;5;124m'\u001B[39m\u001B[38;5;124mconditional_ddpm\u001B[39m\u001B[38;5;124m'\u001B[39m\u001B[38;5;124m, \u001B[39m\u001B[38;5;124m'\u001B[39m\u001B[38;5;124mldm\u001B[39m\u001B[38;5;124m'\u001B[39m\u001B[38;5;124m.\u001B[39m\u001B[38;5;124m'\u001B[39m\u001B[38;5;124m\"\u001B[39m)\n\u001B[1;32m     25\u001B[0m \u001B[38;5;28;01mif\u001B[39;00m \u001B[38;5;129;01mnot\u001B[39;00m save_dir\u001B[38;5;241m.\u001B[39mendswith(\u001B[38;5;124m'\u001B[39m\u001B[38;5;124m.yaml\u001B[39m\u001B[38;5;124m'\u001B[39m):\n\u001B[1;32m     26\u001B[0m     save_dir \u001B[38;5;241m+\u001B[39m\u001B[38;5;241m=\u001B[39m \u001B[38;5;124mf\u001B[39m\u001B[38;5;124m'\u001B[39m\u001B[38;5;132;01m{\u001B[39;00mconfig_type\u001B[38;5;241m.\u001B[39mcasefold()\u001B[38;5;132;01m}\u001B[39;00m\u001B[38;5;124m_config.yaml\u001B[39m\u001B[38;5;124m'\u001B[39m\n",
      "\u001B[0;31mValueError\u001B[0m: config type conditional_v not supported. choose from 'vae', 'conditional_ddpm', 'ldm'.'"
     ]
    }
   ],
   "execution_count": 2
  },
  {
   "metadata": {},
   "cell_type": "markdown",
   "source": "",
   "id": "822fdcb1f6f667f1"
  },
  {
   "metadata": {
    "ExecuteTime": {
     "end_time": "2024-08-19T06:13:21.486730Z",
     "start_time": "2024-08-19T06:13:06.177025Z"
    }
   },
   "cell_type": "code",
   "source": "execute_vae('/home/arezy/Desktop/fleiadex/vae_config.yaml')",
   "id": "d624986cd77eb093",
   "outputs": [
    {
     "name": "stdout",
     "output_type": "stream",
     "text": [
      "[2024-08-19 14:13:06,439][jax._src.xla_bridge][INFO] - Unable to initialize backend 'rocm': module 'jaxlib.xla_extension' has no attribute 'GpuAllocatorConfig'\n",
      "[2024-08-19 14:13:06,440][jax._src.xla_bridge][INFO] - Unable to initialize backend 'tpu': INTERNAL: Failed to open libtpu.so: libtpu.so: cannot open shared object file: No such file or directory\n",
      "[2024-08-19 14:13:06,441][absl][INFO] - JAX backend: gpu\n",
      "[2024-08-19 14:13:06,441][absl][INFO] - JAX process: 1 / 1\n",
      "[2024-08-19 14:13:06,441][absl][INFO] - JAX local devices: [CudaDevice(id=0)]\n",
      "[2024-08-19 14:13:06,441][absl][INFO] - Setting task status: process_index: 0, process_count: 1\n"
     ]
    },
    {
     "name": "stderr",
     "output_type": "stream",
     "text": [
      "WARNING: All log messages before absl::InitializeLog() is called are written to STDERR\n",
      "I0000 00:00:1724047986.341586   41660 cuda_executor.cc:1015] successful NUMA node read from SysFS had negative value (-1), but there must be at least one NUMA node, so returning NUMA node zero. See more at https://github.com/torvalds/linux/blob/v6.0/Documentation/ABI/testing/sysfs-bus-pci#L344-L355\n",
      "2024-08-19 14:13:06.371021: W tensorflow/core/common_runtime/gpu/gpu_device.cc:2343] Cannot dlopen some GPU libraries. Please make sure the missing libraries mentioned above are installed properly if you would like to use GPU. Follow the guide at https://www.tensorflow.org/install/gpu for how to download and setup the required libraries for your platform.\n",
      "Skipping registering GPU devices...\n",
      "2024-08-19 14:13:06.460097: W external/xla/xla/service/gpu/nvptx_compiler.cc:836] The NVIDIA driver's CUDA version is 12.2 which is older than the PTX compiler version (12.6.20). Because the driver is older than the PTX compiler version, XLA is disabling parallel compilation, which may slow down compilation. You should update your NVIDIA driver or use the NVIDIA-provided CUDA forward compatibility packages.\n"
     ]
    },
    {
     "name": "stdout",
     "output_type": "stream",
     "text": [
      "[2024-08-19 14:13:06,850][absl][INFO] - initializing dataset.\n",
      "[2024-08-19 14:13:09,901][root][INFO] - loaded single .npy file ./src/fleiadex/exp_data/satel_array_202312bandopt00_clear.npy.\n",
      "[2024-08-19 14:13:13,053][absl][INFO] - initializing model.\n"
     ]
    },
    {
     "name": "stderr",
     "output_type": "stream",
     "text": [
      "2024-08-19 14:13:15.286117: W external/xla/xla/tsl/framework/bfc_allocator.cc:291] Allocator (GPU_0_bfc) ran out of memory trying to allocate 8.71GiB with freed_by_count=0. The caller indicates that this is not a failure, but this may mean that there could be performance gains if more memory were available.\n",
      "2024-08-19 14:13:18.087391: W external/xla/xla/tsl/framework/bfc_allocator.cc:291] Allocator (GPU_0_bfc) ran out of memory trying to allocate 8.46GiB with freed_by_count=0. The caller indicates that this is not a failure, but this may mean that there could be performance gains if more memory were available.\n",
      "2024-08-19 14:13:21.116260: W external/xla/xla/tsl/framework/bfc_allocator.cc:291] Allocator (GPU_0_bfc) ran out of memory trying to allocate 8.44GiB with freed_by_count=0. The caller indicates that this is not a failure, but this may mean that there could be performance gains if more memory were available.\n",
      "\n",
      "KeyboardInterrupt\n",
      "\n"
     ]
    }
   ],
   "execution_count": 3
  },
  {
   "metadata": {
    "ExecuteTime": {
     "end_time": "2024-08-19T04:38:11.845851Z",
     "start_time": "2024-08-19T04:37:58.051229Z"
    }
   },
   "cell_type": "code",
   "source": "execute_diffuser('/home/arezy/Desktop/fleiadex/conditional_ddpm_config.yaml')",
   "id": "67776d1aa418ed6a",
   "outputs": [
    {
     "name": "stdout",
     "output_type": "stream",
     "text": [
      "[2024-08-19 12:37:58,146][absl][INFO] - JAX backend: gpu\n",
      "[2024-08-19 12:37:58,146][absl][INFO] - JAX process: 1 / 1\n",
      "[2024-08-19 12:37:58,146][absl][INFO] - JAX local devices: [CudaDevice(id=0)]\n",
      "[2024-08-19 12:37:58,147][absl][INFO] - Setting task status: process_index: 0, process_count: 1\n",
      "[2024-08-19 12:37:58,155][absl][INFO] - initializing dataset.\n",
      "[2024-08-19 12:37:59,372][root][INFO] - loaded single .npy file ./src/fleiadex/exp_data/satel_array_202312bandopt00_clear.npy.\n",
      "[2024-08-19 12:38:01,489][absl][INFO] - loading vae from /home/arezy/Desktop/fleiadex/outputs/2024-08-17/18-13-15/results/vae_ckpt\n",
      "[2024-08-19 12:38:01,490][absl][INFO] - Initialized item_names=(), _known_handlers={'vae_state': None, 'config': None}\n",
      "[2024-08-19 12:38:01,490][absl][INFO] - Using timeout: 300 secs and primary_host=0 for async checkpoint writes\n",
      "[2024-08-19 12:38:01,491][absl][INFO] - Skipping global process sync, barrier name: CheckpointManager:create_directory\n",
      "[2024-08-19 12:38:01,492][absl][INFO] - Found 3 checkpoint steps in /home/arezy/Desktop/fleiadex/outputs/2024-08-17/18-13-15/results/vae_ckpt\n",
      "[2024-08-19 12:38:01,493][absl][INFO] - Failed to get flag value for EXPERIMENTAL_ORBAX_USE_DISTRIBUTED_PROCESS_ID.\n",
      "[2024-08-19 12:38:01,493][absl][INFO] - CheckpointManager created, jax.process_index=0, primary_host=0, CheckpointManagerOptions=CheckpointManagerOptions(save_interval_steps=1, max_to_keep=None, keep_time_interval=None, keep_period=None, best_fn=None, best_mode='max', keep_checkpoints_without_metrics=True, step_prefix=None, step_format_fixed_length=None, step_name_format=None, create=True, cleanup_tmp_directories=False, save_on_steps=frozenset(), single_host_load_and_broadcast=False, todelete_subdir=None, enable_background_delete=False, read_only=False, enable_async_checkpointing=True, async_options=None, multiprocessing_options=MultiprocessingOptions(primary_host=0, active_processes=None, barrier_sync_key_prefix=None), should_save_fn=None, file_options=FileOptions(path_permission_mode=None), temporary_path_class=None), root_directory=/home/arezy/Desktop/fleiadex/outputs/2024-08-17/18-13-15/results/vae_ckpt: <orbax.checkpoint.checkpoint_manager.CheckpointManager object at 0x7c1b48f86f80>\n",
      "[2024-08-19 12:38:01,493][absl][INFO] - Commit thread error check finished successfully\n",
      "[2024-08-19 12:38:01,493][absl][INFO] - Restoring checkpoint from /home/arezy/Desktop/fleiadex/outputs/2024-08-17/18-13-15/results/vae_ckpt/8000.\n",
      "[2024-08-19 12:38:01,494][absl][INFO] - Finished restoring checkpoint from /home/arezy/Desktop/fleiadex/outputs/2024-08-17/18-13-15/results/vae_ckpt/8000.\n",
      "[2024-08-19 12:38:01,494][absl][INFO] - Skipping global process sync, barrier name: 1_Checkpointer:restore.8000\n",
      "[2024-08-19 12:38:01,494][absl][INFO] - {'step': 8000, 'event_type': 'restore', 'directory': '/home/arezy/Desktop/fleiadex/outputs/2024-08-17/18-13-15/results/vae_ckpt', 'checkpointer_start_time': 1724042281.493665, 'checkpointer_duration_secs': 0.001176595687866211, 'checkpoint_manager_start_time': 1724042281.4936492, 'checkpoint_manager_duration_secs': 0.0011930465698242188}\n"
     ]
    },
    {
     "name": "stderr",
     "output_type": "stream",
     "text": [
      "2024-08-19 12:38:03.504454: W external/xla/xla/tsl/framework/bfc_allocator.cc:291] Allocator (GPU_0_bfc) ran out of memory trying to allocate 8.40GiB with freed_by_count=0. The caller indicates that this is not a failure, but this may mean that there could be performance gains if more memory were available.\n",
      "2024-08-19 12:38:08.250723: W external/xla/xla/tsl/framework/bfc_allocator.cc:291] Allocator (GPU_0_bfc) ran out of memory trying to allocate 16.78GiB with freed_by_count=0. The caller indicates that this is not a failure, but this may mean that there could be performance gains if more memory were available.\n",
      "2024-08-19 12:38:11.691155: W external/xla/xla/tsl/framework/bfc_allocator.cc:291] Allocator (GPU_0_bfc) ran out of memory trying to allocate 34.28GiB with freed_by_count=0. The caller indicates that this is not a failure, but this may mean that there could be performance gains if more memory were available.\n",
      "\n",
      "KeyboardInterrupt\n",
      "\n"
     ]
    }
   ],
   "execution_count": 4
  },
  {
   "metadata": {
    "ExecuteTime": {
     "end_time": "2024-08-19T04:46:49.930638Z",
     "start_time": "2024-08-19T04:46:49.927171Z"
    }
   },
   "cell_type": "code",
   "source": "from fleiadex.interface import VariationalAutoencoder",
   "id": "8dfda08ee49ebbde",
   "outputs": [
    {
     "name": "stdout",
     "output_type": "stream",
     "text": [
      "['.', '']\n"
     ]
    },
    {
     "data": {
      "text/plain": [
       "'./'"
      ]
     },
     "execution_count": 4,
     "metadata": {},
     "output_type": "execute_result"
    }
   ],
   "execution_count": 4
  },
  {
   "metadata": {
    "ExecuteTime": {
     "end_time": "2024-08-16T13:11:03.714866Z",
     "start_time": "2024-08-16T13:05:50.463784Z"
    }
   },
   "cell_type": "code",
   "source": "vae",
   "id": "c10167f53b82d75a",
   "outputs": [
    {
     "data": {
      "text/plain": [
       "  0%|          | 0/4382 [00:00<?, ?it/s]"
      ],
      "application/vnd.jupyter.widget-view+json": {
       "version_major": 2,
       "version_minor": 0,
       "model_id": "96c3a9ff1a4641b7b005e5a15d05b48a"
      }
     },
     "metadata": {},
     "output_type": "display_data"
    },
    {
     "name": "stderr",
     "output_type": "stream",
     "text": [
      "  2%|▏         | 94/4382 [00:09<07:17,  9.80it/s]\n"
     ]
    }
   ],
   "execution_count": 19
  },
  {
   "metadata": {
    "ExecuteTime": {
     "end_time": "2024-08-16T13:15:02.144994Z",
     "start_time": "2024-08-16T13:15:02.136339Z"
    }
   },
   "cell_type": "code",
   "source": "jnp.save('./latent_data.npy', latent_data)",
   "id": "4a3d11a8337a6471",
   "outputs": [],
   "execution_count": 20
  },
  {
   "metadata": {
    "ExecuteTime": {
     "end_time": "2024-08-16T13:20:01.352908Z",
     "start_time": "2024-08-16T13:20:01.261581Z"
    }
   },
   "cell_type": "code",
   "source": [
    "import matplotlib.pyplot as plt\n",
    "\n",
    "plt.hist(latent_data, bins=50);"
   ],
   "id": "eb9f3e5ec48629d5",
   "outputs": [
    {
     "data": {
      "text/plain": [
       "<Figure size 640x480 with 1 Axes>"
      ],
      "image/png": "[encoded data removed]"
     },
     "metadata": {},
     "output_type": "display_data"
    }
   ],
   "execution_count": 25
  },
  {
   "metadata": {},
   "cell_type": "code",
   "outputs": [],
   "execution_count": null,
   "source": "",
   "id": "de68b4671ca87524"
  }
 ],
 "metadata": {
  "kernelspec": {
   "display_name": "Python 3",
   "language": "python",
   "name": "python3"
  },
  "language_info": {
   "codemirror_mode": {
    "name": "ipython",
    "version": 2
   },
   "file_extension": ".py",
   "mimetype": "text/x-python",
   "name": "python",
   "nbconvert_exporter": "python",
   "pygments_lexer": "ipython2",
   "version": "2.7.6"
  }
 },
 "nbformat": 4,
 "nbformat_minor": 5
}
