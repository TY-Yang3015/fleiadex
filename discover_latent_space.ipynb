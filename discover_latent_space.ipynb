{
 "cells": [
  {
   "cell_type": "code",
   "id": "initial_id",
   "metadata": {
    "collapsed": true,
    "ExecuteTime": {
     "end_time": "2024-08-18T10:54:27.358556Z",
     "start_time": "2024-08-18T10:54:25.858850Z"
    }
   },
   "source": "from fleiadex.interface import VariationalAutoencoder",
   "outputs": [
    {
     "name": "stderr",
     "output_type": "stream",
     "text": [
      "2024-08-18 18:54:26.330976: E external/local_xla/xla/stream_executor/cuda/cuda_fft.cc:485] Unable to register cuFFT factory: Attempting to register factory for plugin cuFFT when one has already been registered\n",
      "2024-08-18 18:54:26.339882: E external/local_xla/xla/stream_executor/cuda/cuda_dnn.cc:8454] Unable to register cuDNN factory: Attempting to register factory for plugin cuDNN when one has already been registered\n",
      "2024-08-18 18:54:26.342606: E external/local_xla/xla/stream_executor/cuda/cuda_blas.cc:1452] Unable to register cuBLAS factory: Attempting to register factory for plugin cuBLAS when one has already been registered\n",
      "2024-08-18 18:54:26.800270: W tensorflow/compiler/tf2tensorrt/utils/py_utils.cc:38] TF-TRT Warning: Could not find TensorRT\n"
     ]
    }
   ],
   "execution_count": 1
  },
  {
   "metadata": {
    "ExecuteTime": {
     "end_time": "2024-08-18T10:54:44.238734Z",
     "start_time": "2024-08-18T10:54:27.359320Z"
    }
   },
   "cell_type": "code",
   "source": "vae = VariationalAutoencoder('/home/arezy/Desktop/fleiadex/outputs/2024-08-17/18-13-15/results/vae_ckpt')",
   "id": "d624986cd77eb093",
   "outputs": [
    {
     "name": "stdout",
     "output_type": "stream",
     "text": [
      "loading vae from /home/arezy/Desktop/fleiadex/outputs/2024-08-17/18-13-15/results/vae_ckpt\n"
     ]
    },
    {
     "name": "stderr",
     "output_type": "stream",
     "text": [
      "2024-08-18 18:54:27.491211: W external/xla/xla/service/gpu/nvptx_compiler.cc:836] The NVIDIA driver's CUDA version is 12.2 which is older than the PTX compiler version (12.6.20). Because the driver is older than the PTX compiler version, XLA is disabling parallel compilation, which may slow down compilation. You should update your NVIDIA driver or use the NVIDIA-provided CUDA forward compatibility packages.\n",
      "2024-08-18 18:54:29.243737: W external/xla/xla/tsl/framework/bfc_allocator.cc:291] Allocator (GPU_0_bfc) ran out of memory trying to allocate 8.58GiB with freed_by_count=0. The caller indicates that this is not a failure, but this may mean that there could be performance gains if more memory were available.\n",
      "2024-08-18 18:54:31.841038: W external/xla/xla/tsl/framework/bfc_allocator.cc:291] Allocator (GPU_0_bfc) ran out of memory trying to allocate 8.40GiB with freed_by_count=0. The caller indicates that this is not a failure, but this may mean that there could be performance gains if more memory were available.\n",
      "2024-08-18 18:54:33.809495: W external/xla/xla/tsl/framework/bfc_allocator.cc:291] Allocator (GPU_0_bfc) ran out of memory trying to allocate 8.40GiB with freed_by_count=0. The caller indicates that this is not a failure, but this may mean that there could be performance gains if more memory were available.\n",
      "2024-08-18 18:54:38.839019: W external/xla/xla/tsl/framework/bfc_allocator.cc:291] Allocator (GPU_0_bfc) ran out of memory trying to allocate 16.78GiB with freed_by_count=0. The caller indicates that this is not a failure, but this may mean that there could be performance gains if more memory were available.\n",
      "2024-08-18 18:54:43.015362: W external/xla/xla/tsl/framework/bfc_allocator.cc:291] Allocator (GPU_0_bfc) ran out of memory trying to allocate 34.28GiB with freed_by_count=0. The caller indicates that this is not a failure, but this may mean that there could be performance gains if more memory were available.\n"
     ]
    },
    {
     "name": "stdout",
     "output_type": "stream",
     "text": [
      "loading succeeded.\n"
     ]
    }
   ],
   "execution_count": 2
  },
  {
   "metadata": {
    "ExecuteTime": {
     "end_time": "2024-08-16T13:01:32.515511Z",
     "start_time": "2024-08-16T13:01:30.247791Z"
    }
   },
   "cell_type": "code",
   "source": [
    "import jax.numpy as jnp\n",
    "\n",
    "data = jnp.load('/home/arezy/Desktop/fleiadex/src/fleiadex/exp_data/satel_array_202312bandopt00_clear.npy')"
   ],
   "id": "67776d1aa418ed6a",
   "outputs": [
    {
     "data": {
      "text/plain": [
       "Array([[[[260.52075, 257.75586, 256.6131 , ..., 244.5329 , 244.5329 ,\n",
       "          245.74776],\n",
       "         [260.18054, 259.45734, 259.4191 , ..., 252.90823, 252.90823,\n",
       "          254.76372],\n",
       "         [258.41776, 261.23413, 264.0606 , ..., 257.63843, 257.63843,\n",
       "          258.53397],\n",
       "         ...,\n",
       "         [206.02536, 206.02536, 206.60204, ..., 200.56235, 200.56235,\n",
       "          200.56235],\n",
       "         [204.44902, 204.44902, 205.44095, ..., 200.56235, 200.782  ,\n",
       "          200.782  ],\n",
       "         [203.63858, 203.63858, 204.24785, ..., 201.64903, 202.2876 ,\n",
       "          202.2876 ]],\n",
       "\n",
       "        [[247.4946 , 245.09618, 243.55511, ..., 233.93091, 233.93091,\n",
       "          235.74138],\n",
       "         [246.96664, 245.54478, 245.45523, ..., 239.9219 , 239.9219 ,\n",
       "          242.82121],\n",
       "         [246.25829, 247.05482, 249.49294, ..., 244.10184, 244.10184,\n",
       "          246.25829],\n",
       "         ...,\n",
       "         [205.49893, 205.49893, 206.54211, ..., 201.13783, 200.81374,\n",
       "          200.81374],\n",
       "         [204.28471, 204.28471, 205.94815, ..., 201.46013, 201.46013,\n",
       "          201.46013],\n",
       "         [203.82309, 203.82309, 204.28471, ..., 202.25826, 202.73201,\n",
       "          202.73201]],\n",
       "\n",
       "        [[229.2717 , 228.0376 , 227.8266 , ..., 224.4541 , 224.4541 ,\n",
       "          225.16226],\n",
       "         [229.06969, 228.0376 , 227.8266 , ..., 226.30353, 226.30353,\n",
       "          227.61401],\n",
       "         [228.66133, 228.45494, 229.06969, ..., 227.8266 , 227.8266 ,\n",
       "          228.86624],\n",
       "         ...,\n",
       "         [205.53833, 205.53833, 206.04575, ..., 201.6194 , 200.99731,\n",
       "          200.99731],\n",
       "         [203.94327, 203.94327, 205.01921, ..., 200.99731, 200.99731,\n",
       "          200.99731],\n",
       "         [203.38504, 203.38504, 203.94327, ..., 201.6194 , 202.22401,\n",
       "          202.22401]],\n",
       "\n",
       "        [[243.45602, 241.4334 , 240.77263, ..., 235.29211, 235.29211,\n",
       "          236.55255],\n",
       "         [242.93361, 241.59688, 241.54245, ..., 240.044  , 240.044  ,\n",
       "          241.75967],\n",
       "         [242.82831, 242.66982, 243.92047, ..., 242.98616, 242.98616,\n",
       "          244.0741 ],\n",
       "         ...,\n",
       "         [205.6702 , 205.6702 , 206.31232, ..., 200.8823 , 200.68712,\n",
       "          200.68712],\n",
       "         [203.99533, 203.99533, 205.0126 , ..., 200.68712, 201.26826,\n",
       "          201.26826],\n",
       "         [203.2951 , 203.2951 , 203.99533, ..., 201.6486 , 202.20894,\n",
       "          202.20894]]],\n",
       "\n",
       "\n",
       "       [[[263.4452 , 262.34738, 261.34616, ..., 241.44325, 243.24725,\n",
       "          243.24725],\n",
       "         [265.7733 , 263.73538, 260.25626, ..., 249.9665 , 250.6165 ,\n",
       "          250.6165 ],\n",
       "         [264.63553, 261.30884, 256.6528 , ..., 254.47818, 252.57333,\n",
       "          252.57333],\n",
       "         ...,\n",
       "         [210.26628, 210.26628, 212.49907, ..., 201.54166, 202.81236,\n",
       "          202.81236],\n",
       "         [208.6543 , 208.6543 , 210.8781 , ..., 202.39308, 202.18185,\n",
       "          202.18185],\n",
       "         [207.64001, 207.64001, 209.82422, ..., 202.18185, 202.18185,\n",
       "          202.18185]],\n",
       "\n",
       "        [[249.83647, 248.10701, 246.6131 , ..., 234.23529, 235.94023,\n",
       "          235.94023],\n",
       "         [250.60522, 247.845  , 245.09618, ..., 240.3957 , 241.24246,\n",
       "          241.24246],\n",
       "         [249.57893, 245.18607, 240.96107, ..., 243.82887, 242.63686,\n",
       "          242.63686],\n",
       "         ...,\n",
       "         [209.7127 , 209.7127 , 211.51564, ..., 201.94029, 202.8891 ,\n",
       "          202.8891 ],\n",
       "         [208.57788, 208.57788, 210.13318, ..., 203.04578, 202.73201,\n",
       "          202.73201],\n",
       "         [207.42262, 207.42262, 209.00578, ..., 202.57451, 202.4166 ,\n",
       "          202.4166 ]],\n",
       "\n",
       "        [[229.47229, 228.45494, 227.18396, ..., 225.85266, 226.96645,\n",
       "          226.96645],\n",
       "         [229.06969, 227.8266 , 226.30353, ..., 227.39981, 228.24704,\n",
       "          228.24704],\n",
       "         [228.45494, 226.30353, 224.4541 , ..., 228.24704, 228.24704,\n",
       "          228.24704],\n",
       "         ...,\n",
       "         [209.31305, 209.31305, 210.99284, ..., 201.6194 , 202.81224,\n",
       "          202.81224],\n",
       "         [207.50322, 207.50322, 209.74435, ..., 202.81224, 202.22401,\n",
       "          202.22401],\n",
       "         [207.50322, 207.50322, 209.31305, ..., 202.22401, 202.81224,\n",
       "          202.81224]],\n",
       "\n",
       "        [[243.76625, 242.98616, 242.02954, ..., 234.64554, 236.6763 ,\n",
       "          236.6763 ],\n",
       "         [244.02295, 242.51071, 240.60568, ..., 239.81705, 240.99413,\n",
       "          240.99413],\n",
       "         [243.76625, 240.77263, 238.01144, ..., 242.40428, 241.92181,\n",
       "          241.92181],\n",
       "         ...,\n",
       "         [209.74196, 209.74196, 211.51176, ..., 201.83672, 202.7576 ,\n",
       "          202.7576 ],\n",
       "         [208.44931, 208.44931, 210.43556, ..., 202.3931 , 202.57597,\n",
       "          202.57597],\n",
       "         [207.0945 , 207.0945 , 209.45973, ..., 202.20894, 202.20894,\n",
       "          202.20894]]],\n",
       "\n",
       "\n",
       "       [[[259.1508 , 258.2237 , 257.4816 , ..., 241.44325, 245.51584,\n",
       "          245.51584],\n",
       "         [255.61375, 255.04816, 255.25066, ..., 248.20294, 249.31042,\n",
       "          249.31042],\n",
       "         [253.90373, 252.74098, 252.57333, ..., 251.85641, 250.70271,\n",
       "          250.70271],\n",
       "         ...,\n",
       "         [208.74538, 208.74538, 207.26538, ..., 205.83142, 206.50645,\n",
       "          206.50645],\n",
       "         [212.33107, 212.33107, 209.55692, ..., 205.44095, 206.31465,\n",
       "          206.31465],\n",
       "         [213.98474, 213.98474, 212.33107, ..., 204.94783, 205.9285 ,\n",
       "          205.9285 ]],\n",
       "\n",
       "        [[243.37218, 241.98872, 240.49017, ..., 235.24223, 238.0017 ,\n",
       "          238.0017 ],\n",
       "         [240.20648, 239.15869, 239.06284, ..., 240.11172, 241.33607,\n",
       "          241.33607],\n",
       "         [238.29233, 236.63272, 236.53413, ..., 242.72908, 241.98872,\n",
       "          241.98872],\n",
       "         ...,\n",
       "         [207.56818, 207.56818, 206.83699, ..., 205.94815, 206.09717,\n",
       "          206.09717],\n",
       "         [210.82803, 210.82803, 208.29103, ..., 205.64903, 205.94815,\n",
       "          205.94815],\n",
       "         [212.1962 , 212.1962 , 210.68965, ..., 205.04642, 205.49893,\n",
       "          205.49893]],\n",
       "\n",
       "        [[225.16226, 224.21391, 223.23135, ..., 227.39981, 228.24704,\n",
       "          228.24704],\n",
       "         [223.48035, 222.98003, 222.47023, ..., 228.45494, 228.86624,\n",
       "          228.86624],\n",
       "         [222.72633, 221.68684, 221.68684, ..., 228.86624, 228.66133,\n",
       "          228.66133],\n",
       "         ...,\n",
       "         [207.96912, 207.96912, 206.542  , ..., 205.53833, 206.04575,\n",
       "          206.04575],\n",
       "         [210.58395, 210.58395, 208.42578, ..., 205.53833, 206.04575,\n",
       "          206.04575],\n",
       "         [212.17914, 212.17914, 210.99284, ..., 205.01921, 206.04575,\n",
       "          206.04575]],\n",
       "\n",
       "        [[239.07013, 237.77216, 236.42839, ..., 236.11621, 238.66188,\n",
       "          238.66188],\n",
       "         [236.738  , 235.86456, 235.29211, ..., 240.26964, 241.21437,\n",
       "          241.21437],\n",
       "         [235.35616, 233.98744, 233.45235, ..., 242.40428, 241.8138 ,\n",
       "          241.8138 ],\n",
       "         ...,\n",
       "         [208.30196, 208.30196, 206.78427, ..., 205.6702 , 206.47054,\n",
       "          206.47054],\n",
       "         [211.64354, 211.64354, 208.88676, ..., 205.34338, 205.83214,\n",
       "          205.83214],\n",
       "         [213.18018, 213.18018, 211.7747 , ..., 204.67776, 205.99313,\n",
       "          205.99313]]],\n",
       "\n",
       "\n",
       "       ...,\n",
       "\n",
       "\n",
       "       [[[204.74901, 205.0469 , 206.79259, ..., 211.73827, 213.90341,\n",
       "          213.90341],\n",
       "         [205.0469 , 205.9285 , 206.79259, ..., 212.41515, 214.30867,\n",
       "          214.30867],\n",
       "         [205.73413, 206.60204, 207.35934, ..., 212.83327, 215.34663,\n",
       "          215.34663],\n",
       "         ...,\n",
       "         [285.57324, 285.57324, 284.83514, ..., 292.325  , 292.11322,\n",
       "          292.11322],\n",
       "         [285.43173, 285.43173, 284.40677, ..., 292.3779 , 292.35147,\n",
       "          292.35147],\n",
       "         [285.26166, 285.26166, 283.77502, ..., 292.45718, 292.45718,\n",
       "          292.45718]],\n",
       "\n",
       "        [[204.74287, 204.89484, 206.39415, ..., 210.55098, 213.1375 ,\n",
       "          213.1375 ],\n",
       "         [204.74287, 205.64903, 206.39415, ..., 211.9248 , 213.2709 ,\n",
       "          213.2709 ],\n",
       "         [205.34846, 206.83699, 206.83699, ..., 211.7887 , 214.32886,\n",
       "          214.32886],\n",
       "         ...,\n",
       "         [266.85538, 266.85538, 266.19162, ..., 270.55014, 270.83533,\n",
       "          270.83533],\n",
       "         [267.0024 , 267.0024 , 266.11765, ..., 270.6215 , 270.6215 ,\n",
       "          270.6215 ],\n",
       "         [267.07584, 267.07584, 265.74707, ..., 270.7641 , 270.6215 ,\n",
       "          270.6215 ]],\n",
       "\n",
       "        [[203.94327, 205.01921, 206.542  , ..., 210.58395, 212.17914,\n",
       "          212.17914],\n",
       "         [204.48775, 205.53833, 206.04575, ..., 210.99284, 212.5619 ,\n",
       "          212.5619 ],\n",
       "         [205.01921, 206.04575, 206.542  , ..., 211.39484, 213.30978,\n",
       "          213.30978],\n",
       "         ...,\n",
       "         [233.91309, 233.91309, 233.7408 , ..., 236.22714, 236.06757,\n",
       "          236.06757],\n",
       "         [234.0844 , 234.0844 , 233.7408 , ..., 236.22714, 236.22714,\n",
       "          236.22714],\n",
       "         [234.0844 , 234.0844 , 233.56752, ..., 236.38588, 236.22714,\n",
       "          236.22714]],\n",
       "\n",
       "        [[204.33871, 204.67776, 206.47054, ..., 210.5723 , 213.05515,\n",
       "          213.05515],\n",
       "         [204.50876, 205.1785 , 206.1532 , ..., 211.7747 , 213.55217,\n",
       "          213.55217],\n",
       "         [205.1785 , 206.1532 , 206.78427, ..., 212.16472, 214.40251,\n",
       "          214.40251],\n",
       "         ...,\n",
       "         [254.63486, 254.63486, 254.19406, ..., 257.64264, 257.56796,\n",
       "          257.56796],\n",
       "         [254.63486, 254.63486, 254.11343, ..., 257.67993, 257.64264,\n",
       "          257.64264],\n",
       "         [254.59497, 254.59497, 254.03267, ..., 257.75446, 257.67993,\n",
       "          257.67993]]],\n",
       "\n",
       "\n",
       "       [[[206.79259, 205.63663, 207.54666, ..., 216.36285, 217.73607,\n",
       "          217.73607],\n",
       "         [206.88756, 206.02536, 207.54666, ..., 215.89645, 218.4087 ,\n",
       "          218.4087 ],\n",
       "         [207.91895, 206.79259, 208.19612, ..., 216.05241, 217.73607,\n",
       "          217.73607],\n",
       "         ...,\n",
       "         [283.284  , 283.284  , 283.80383, ..., 292.3779 , 292.325  ,\n",
       "          292.325  ],\n",
       "         [282.61563, 282.61563, 283.39975, ..., 292.45718, 292.43076,\n",
       "          292.43076],\n",
       "         [282.96494, 282.96494, 283.0811 , ..., 292.45718, 292.45718,\n",
       "          292.45718]],\n",
       "\n",
       "        [[206.39415, 205.64903, 207.27672, ..., 214.72142, 216.26978,\n",
       "          216.26978],\n",
       "         [206.54211, 206.09717, 207.42262, ..., 214.85178, 216.77838,\n",
       "          216.77838],\n",
       "         [207.42262, 205.79877, 207.56818, ..., 214.72142, 216.52454,\n",
       "          216.52454],\n",
       "         ...,\n",
       "         [264.77817, 264.77817, 264.92773, ..., 270.7641 , 270.47873,\n",
       "          270.47873],\n",
       "         [264.10272, 264.10272, 264.6284 , ..., 270.6215 , 270.55014,\n",
       "          270.55014],\n",
       "         [264.4034 , 264.4034 , 264.02744, ..., 270.83533, 270.7641 ,\n",
       "          270.7641 ]],\n",
       "\n",
       "        [[206.04575, 205.53833, 207.02766, ..., 214.03542, 215.08527,\n",
       "          215.08527],\n",
       "         [206.542  , 205.53833, 207.02766, ..., 213.6753 , 215.76128,\n",
       "          215.76128],\n",
       "         [207.02766, 206.04575, 207.50322, ..., 213.30978, 214.74025,\n",
       "          214.74025],\n",
       "         ...,\n",
       "         [232.86412, 232.86412, 232.86412, ..., 235.90717, 236.06757,\n",
       "          236.06757],\n",
       "         [232.50607, 232.50607, 232.68564, ..., 235.74591, 236.06757,\n",
       "          236.06757],\n",
       "         [232.86412, 232.86412, 232.86412, ..., 235.5838 , 235.90717,\n",
       "          235.90717]],\n",
       "\n",
       "        [[206.31232, 205.0126 , 206.93982, ..., 215.34576, 216.59671,\n",
       "          216.59671],\n",
       "         [206.31232, 205.6702 , 206.93982, ..., 215.1127 , 217.25815,\n",
       "          217.25815],\n",
       "         [207.0945 , 206.47054, 207.55344, ..., 215.22946, 216.48508,\n",
       "          216.48508],\n",
       "         ...,\n",
       "         [253.13443, 253.13443, 253.258  , ..., 257.53055, 257.4182 ,\n",
       "          257.4182 ],\n",
       "         [252.88625, 252.88625, 253.05185, ..., 257.4557 , 257.56796,\n",
       "          257.56796],\n",
       "         [253.09315, 253.09315, 252.96913, ..., 257.4182 , 257.56796,\n",
       "          257.56796]]],\n",
       "\n",
       "\n",
       "       [[[209.37782, 207.4531 , 206.41064, ..., 218.48288, 221.3646 ,\n",
       "          221.3646 ],\n",
       "         [210.00156, 207.73318, 206.88756, ..., 217.50983, 220.44574,\n",
       "          220.44574],\n",
       "         [210.70412, 208.28813, 207.54666, ..., 218.99911, 221.15399,\n",
       "          221.15399],\n",
       "         ...,\n",
       "         [284.69257, 284.69257, 286.6421 , ..., 292.21918, 292.2721 ,\n",
       "          292.2721 ],\n",
       "         [284.83514, 284.83514, 287.03296, ..., 292.06018, 292.00714,\n",
       "          292.00714],\n",
       "         [284.80664, 284.80664, 286.72598, ..., 291.87442, 291.95407,\n",
       "          292.1662 ]],\n",
       "\n",
       "        [[208.00287, 206.54211, 206.54211, ..., 217.28334, 219.26828,\n",
       "          219.26828],\n",
       "         [208.86346, 206.9839 , 206.24583, ..., 216.52454, 218.53032,\n",
       "          218.53032],\n",
       "         [209.00578, 207.56818, 206.83699, ..., 217.15744, 219.1458 ,\n",
       "          219.1458 ],\n",
       "         ...,\n",
       "         [264.55344, 264.55344, 266.4133 , ..., 270.33582, 270.47873,\n",
       "          270.47873],\n",
       "         [264.7033 , 264.7033 , 266.56082, ..., 270.19275, 270.55014,\n",
       "          270.55014],\n",
       "         [264.92773, 264.92773, 266.7082 , ..., 270.6215 , 270.6928 ,\n",
       "          270.47873]],\n",
       "\n",
       "        [[207.96912, 206.542  , 206.04575, ..., 215.76128, 217.6866 ,\n",
       "          217.6866 ],\n",
       "         [208.87364, 207.02766, 206.542  , ..., 215.08527, 217.06096,\n",
       "          217.06096],\n",
       "         [209.31305, 207.50322, 206.542  , ..., 215.76128, 217.3757 ,\n",
       "          217.3757 ],\n",
       "         ...,\n",
       "         [233.2179 , 233.2179 , 233.7408 , ..., 235.90717, 235.90717,\n",
       "          235.90717],\n",
       "         [233.2179 , 233.2179 , 233.7408 , ..., 235.74591, 235.90717,\n",
       "          235.90717],\n",
       "         [233.2179 , 233.2179 , 233.91309, ..., 235.74591, 235.90717,\n",
       "          236.06757]],\n",
       "\n",
       "        [[208.44931, 206.62785, 205.50728, ..., 217.25815, 219.67105,\n",
       "          219.67105],\n",
       "         [209.1747 , 207.0945 , 206.1532 , ..., 216.48508, 219.05923,\n",
       "          219.05923],\n",
       "         [209.74196, 207.85526, 206.93982, ..., 217.90575, 219.8724 ,\n",
       "          219.8724 ],\n",
       "         ...,\n",
       "         [253.01051, 253.01051, 254.15376, ..., 257.49313, 257.56796,\n",
       "          257.56796],\n",
       "         [253.09315, 253.09315, 254.39496, ..., 257.4557 , 257.49313,\n",
       "          257.49313],\n",
       "         [253.2991 , 253.2991 , 254.39496, ..., 257.49313, 257.49313,\n",
       "          257.56796]]]], dtype=float32)"
      ]
     },
     "execution_count": 10,
     "metadata": {},
     "output_type": "execute_result"
    }
   ],
   "execution_count": 10
  },
  {
   "metadata": {
    "ExecuteTime": {
     "end_time": "2024-08-16T13:02:31.346276Z",
     "start_time": "2024-08-16T13:02:31.308847Z"
    }
   },
   "cell_type": "code",
   "source": [
    "from einops import rearrange\n",
    "\n",
    "data = rearrange(data, 'b c w h -> b w h c')"
   ],
   "id": "8dfda08ee49ebbde",
   "outputs": [],
   "execution_count": 13
  },
  {
   "metadata": {
    "ExecuteTime": {
     "end_time": "2024-08-16T13:11:03.714866Z",
     "start_time": "2024-08-16T13:05:50.463784Z"
    }
   },
   "cell_type": "code",
   "source": [
    "from tqdm.notebook import tqdm\n",
    "\n",
    "latent_data = jnp.array([])\n",
    "pbar = tqdm(total=len(data))\n",
    "for image in data:\n",
    "    image = jnp.expand_dims(image, axis=0)\n",
    "    latent = vae.encode(image)\n",
    "    latent_data = jnp.append(latent_data, latent)\n",
    "    pbar.update(1)"
   ],
   "id": "c10167f53b82d75a",
   "outputs": [
    {
     "data": {
      "text/plain": [
       "  0%|          | 0/4382 [00:00<?, ?it/s]"
      ],
      "application/vnd.jupyter.widget-view+json": {
       "version_major": 2,
       "version_minor": 0,
       "model_id": "96c3a9ff1a4641b7b005e5a15d05b48a"
      }
     },
     "metadata": {},
     "output_type": "display_data"
    },
    {
     "name": "stderr",
     "output_type": "stream",
     "text": [
      "  2%|▏         | 94/4382 [00:09<07:17,  9.80it/s]\n"
     ]
    }
   ],
   "execution_count": 19
  },
  {
   "metadata": {
    "ExecuteTime": {
     "end_time": "2024-08-16T13:15:02.144994Z",
     "start_time": "2024-08-16T13:15:02.136339Z"
    }
   },
   "cell_type": "code",
   "source": "jnp.save('./latent_data.npy', latent_data)",
   "id": "4a3d11a8337a6471",
   "outputs": [],
   "execution_count": 20
  },
  {
   "metadata": {
    "ExecuteTime": {
     "end_time": "2024-08-16T13:20:01.352908Z",
     "start_time": "2024-08-16T13:20:01.261581Z"
    }
   },
   "cell_type": "code",
   "source": [
    "import matplotlib.pyplot as plt\n",
    "\n",
    "plt.hist(latent_data, bins=50);"
   ],
   "id": "eb9f3e5ec48629d5",
   "outputs": [
    {
     "data": {
      "text/plain": [
       "<Figure size 640x480 with 1 Axes>"
      ],
      "image/png": "[encoded data removed]"
     },
     "metadata": {},
     "output_type": "display_data"
    }
   ],
   "execution_count": 25
  },
  {
   "metadata": {},
   "cell_type": "code",
   "outputs": [],
   "execution_count": null,
   "source": "",
   "id": "de68b4671ca87524"
  }
 ],
 "metadata": {
  "kernelspec": {
   "display_name": "Python 3",
   "language": "python",
   "name": "python3"
  },
  "language_info": {
   "codemirror_mode": {
    "name": "ipython",
    "version": 2
   },
   "file_extension": ".py",
   "mimetype": "text/x-python",
   "name": "python",
   "nbconvert_exporter": "python",
   "pygments_lexer": "ipython2",
   "version": "2.7.6"
  }
 },
 "nbformat": 4,
 "nbformat_minor": 5
}
