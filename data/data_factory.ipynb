{
 "cells": [
  {
   "cell_type": "code",
   "execution_count": 2,
   "id": "initial_id",
   "metadata": {
    "collapsed": true,
    "ExecuteTime": {
     "end_time": "2024-06-20T05:45:27.173770Z",
     "start_time": "2024-06-20T05:45:24.513014Z"
    }
   },
   "outputs": [],
   "source": [
    "from .utils.data_processing import *"
   ]
  },
  {
   "cell_type": "code",
   "outputs": [
    {
     "data": {
      "text/plain": "  0%|          | 0/1167 [00:00<?, ?it/s]",
      "application/vnd.jupyter.widget-view+json": {
       "version_major": 2,
       "version_minor": 0,
       "model_id": "c6700730fd4843b09465701607a1afb9"
      }
     },
     "metadata": {},
     "output_type": "display_data"
    },
    {
     "name": "stdout",
     "output_type": "stream",
     "text": [
      "encountered ValueError while handling ./raw/Alaska/Sandwich/500x500.jpg\n",
      "Error Message: invalid literal for int() with base 10: '500x'\n"
     ]
    }
   ],
   "source": [
    "folder_path = './raw/Alaska/Sandwich'\n",
    "image_paths = load_image(folder_path)\n",
    "save_path = './processed/Alaska/Sandwich/Sandwich'\n",
    "crop_and_save_image(image_paths, save_path)"
   ],
   "metadata": {
    "collapsed": false,
    "ExecuteTime": {
     "end_time": "2024-06-20T06:03:57.245469Z",
     "start_time": "2024-06-20T06:03:50.714702Z"
    }
   },
   "id": "63fdcae566c265f9",
   "execution_count": 43
  },
  {
   "cell_type": "code",
   "outputs": [],
   "source": [],
   "metadata": {
    "collapsed": false,
    "ExecuteTime": {
     "end_time": "2024-06-20T06:07:18.387650Z",
     "start_time": "2024-06-20T06:07:18.385743Z"
    }
   },
   "id": "82da65601b51712e",
   "execution_count": 43
  },
  {
   "cell_type": "code",
   "outputs": [],
   "source": [],
   "metadata": {
    "collapsed": false
   },
   "id": "2f23972a18339740"
  }
 ],
 "metadata": {
  "kernelspec": {
   "display_name": "Python 3",
   "language": "python",
   "name": "python3"
  },
  "language_info": {
   "codemirror_mode": {
    "name": "ipython",
    "version": 2
   },
   "file_extension": ".py",
   "mimetype": "text/x-python",
   "name": "python",
   "nbconvert_exporter": "python",
   "pygments_lexer": "ipython2",
   "version": "2.7.6"
  }
 },
 "nbformat": 4,
 "nbformat_minor": 5
}
